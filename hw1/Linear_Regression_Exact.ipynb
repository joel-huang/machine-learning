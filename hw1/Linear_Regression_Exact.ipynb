{
 "cells": [
  {
   "cell_type": "markdown",
   "metadata": {},
   "source": [
    "# Exact Solution to Linear Regression using Matrices"
   ]
  },
  {
   "cell_type": "code",
   "execution_count": 9,
   "metadata": {},
   "outputs": [],
   "source": [
    "%matplotlib inline\n",
    "import numpy as np\n",
    "from matplotlib import pyplot as plt\n",
    "\n",
    "data = np.genfromtxt('linear.csv', delimiter=',')\n",
    "X = data[:,1:]\n",
    "Y = data[:,0]"
   ]
  },
  {
   "cell_type": "markdown",
   "metadata": {},
   "source": [
    "We formulate linear regression in matrix notation, $y = X\\cdot b$.\n",
    "\n",
    "In matrix notation, this problem is formulated using the normal equation:\n",
    "\n",
    "$X^{T}\\cdot X\\cdot b = X^{T}\\cdot y$\n",
    "\n",
    "This can be re-arranged in order to specify the solution for b as follows:\n",
    "\n",
    "$b = (X^{T}\\cdot X)^{-1}\\cdot X^{T}\\cdot y$\n",
    "\n",
    "Note: $X^{T}\\cdot X$ __must__ be invertible, and hence positive definite."
   ]
  },
  {
   "cell_type": "code",
   "execution_count": 10,
   "metadata": {},
   "outputs": [
    {
     "name": "stdout",
     "output_type": "stream",
     "text": [
      "[-0.57392068  1.35757059  0.01527565 -1.88288076]\n"
     ]
    }
   ],
   "source": [
    "b = np.linalg.inv(X.T.dot(X)).dot(X.T).dot(Y)\n",
    "print(b)"
   ]
  }
 ],
 "metadata": {
  "kernelspec": {
   "display_name": "Python 3",
   "language": "python",
   "name": "python3"
  },
  "language_info": {
   "codemirror_mode": {
    "name": "ipython",
    "version": 3
   },
   "file_extension": ".py",
   "mimetype": "text/x-python",
   "name": "python",
   "nbconvert_exporter": "python",
   "pygments_lexer": "ipython3",
   "version": "3.6.6"
  }
 },
 "nbformat": 4,
 "nbformat_minor": 2
}
