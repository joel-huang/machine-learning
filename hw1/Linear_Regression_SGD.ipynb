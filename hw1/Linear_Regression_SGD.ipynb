{
 "cells": [
  {
   "cell_type": "markdown",
   "metadata": {},
   "source": [
    "# Linear Regression with Stochastic Gradient Descent\n",
    "\n",
    "Write a program which computes the solution using stochastic gradient descent.  You may use a minibatch size of 5 data points. For convergence, remember to decrease the learning rate over time."
   ]
  },
  {
   "cell_type": "code",
   "execution_count": 1,
   "metadata": {},
   "outputs": [
    {
     "name": "stdout",
     "output_type": "stream",
     "text": [
      "No. of samples: 50\n",
      "Features, X:  (50, 4)\n",
      "Response, Y:  (50,)\n"
     ]
    }
   ],
   "source": [
    "%matplotlib inline\n",
    "import matplotlib.pyplot as plt\n",
    "import numpy as np\n",
    "import sys\n",
    "\n",
    "data = np.genfromtxt('linear.csv', delimiter=',')\n",
    "\n",
    "learn_rate = .1\n",
    "num_samples = data.shape[0]\n",
    "print(\"No. of samples:\", num_samples)\n",
    "\n",
    "np.random.shuffle(data)\n",
    "X = data[:,1:]\n",
    "Y = data[:,0]\n",
    "\n",
    "print(\"Features, X: \", X.shape)\n",
    "print(\"Response, Y: \", Y.shape)"
   ]
  },
  {
   "cell_type": "markdown",
   "metadata": {},
   "source": [
    "We decide to shuffle and sample without replacement. \n",
    "\n",
    "Define the function `get_minibatch` to extract a mini batch of data.\n",
    "\n",
    "`get_minibatch_grad` will predict values `y_pred` for the current theta, compute the error, then calculate the gradient of the loss."
   ]
  },
  {
   "cell_type": "code",
   "execution_count": 5,
   "metadata": {},
   "outputs": [
    {
     "name": "stdout",
     "output_type": "stream",
     "text": [
      "LOSS:  -14.508906365750427\n",
      "LOSS:  -10.336810182153627\n",
      "LOSS:  -8.048858661187579\n",
      "LOSS:  -6.259886860943972\n",
      "LOSS:  -4.983170219150994\n",
      "LOSS:  -3.9166703434866195\n",
      "LOSS:  -3.0595532610304312\n",
      "LOSS:  -2.568885173956148\n",
      "LOSS:  -1.9284494665198229\n",
      "LOSS:  -1.9609026110109125\n",
      "LOSS:  -1.6750851497043031\n",
      "LOSS:  -1.2999262595455026\n",
      "LOSS:  -0.9625996749750784\n",
      "LOSS:  -0.7556740121861655\n",
      "LOSS:  -0.6836626238352868\n",
      "LOSS:  -0.5774562102688272\n",
      "LOSS:  -0.4667761772512634\n",
      "LOSS:  -0.43040469551451255\n",
      "LOSS:  -0.4445083026572769\n",
      "LOSS:  -0.3644654236632398\n",
      "LOSS:  -0.3014530360429683\n",
      "LOSS:  -0.30884330185965686\n",
      "LOSS:  -0.16603369521424619\n",
      "LOSS:  -0.11035572099170961\n",
      "LOSS:  -0.00883193849972067\n",
      "LOSS:  0.0007725086610927412\n",
      "LOSS:  -0.04004584583426109\n",
      "LOSS:  -0.05375931706516716\n",
      "LOSS:  0.012731930603514463\n",
      "LOSS:  -0.08827669618288123\n",
      "LOSS:  -0.10126887121694633\n",
      "LOSS:  -0.043555436221296776\n",
      "LOSS:  -0.07708675599171184\n",
      "LOSS:  -0.036635868009403605\n",
      "LOSS:  -0.07579066335696669\n",
      "LOSS:  -0.0047743391219796545\n",
      "LOSS:  0.001323532297079333\n",
      "LOSS:  0.1303745692028811\n",
      "LOSS:  0.20252081083249407\n",
      "LOSS:  0.1630134472611686\n",
      "LOSS:  0.06019770298343879\n",
      "LOSS:  0.1057613824439621\n",
      "LOSS:  0.08210946556540462\n",
      "LOSS:  0.06810844576850655\n",
      "LOSS:  0.1076192638884856\n",
      "LOSS:  0.011051971473791567\n",
      "LOSS:  0.02417189483123411\n",
      "LOSS:  0.0801813778866933\n",
      "LOSS:  0.07127899741032521\n",
      "LOSS:  0.0822196631854787\n"
     ]
    }
   ],
   "source": [
    "def get_minibatch(data, start_index, batch_size):\n",
    "    X = data[:,1:]\n",
    "    Y = data[:,0]\n",
    "    X_mini = X[start_index:start_index+batch_size]\n",
    "    Y_mini = Y[start_index:start_index+batch_size]\n",
    "    return X_mini, Y_mini\n",
    "\n",
    "def get_minibatch_grad(minibatch, theta):\n",
    "    minibatch_X = minibatch[0] # 5 samples, 4 features each incl. 1 constant feature\n",
    "    minibatch_Y = minibatch[1]\n",
    "    y_pred = minibatch_X.dot(theta)\n",
    "    err = minibatch_Y - y_pred.squeeze()\n",
    "    grad = -minibatch_X.T.dot(err) / minibatch[0].shape[0]\n",
    "    \n",
    "    # Prints for visualization, if I ever need them again\n",
    "    # print(\"THE X FEATURES:\" ,minibatch_X.shape, minibatch_X)\n",
    "    # print(\"THE ACTUAL Y LABELS:\" ,minibatch_Y.shape, minibatch_Y)\n",
    "    # print(\"PREDICTED Y VALS FOR THIS 5-BATCH OF X: \", y_pred.shape, y_pred)\n",
    "    # print(\"PREDICTED Y SQUEEZED: \", y_pred.squeeze().shape, y_pred.squeeze())\n",
    "    # print(\"ERR FOR EACH OF 5 SAMPLES: \", err)\n",
    "    # print(\"GRAD: \", grad.shape, grad)\n",
    "    \n",
    "    return grad\n",
    "    \n",
    "\n",
    "def sgd(theta_init, learn_rate_init, batch_size):\n",
    "    theta = theta_init\n",
    "    learn_rate = learn_rate_init\n",
    "    loss = 0\n",
    "    for i in range(0, num_samples, batch_size):\n",
    "        minibatch = get_minibatch(data, i, batch_size)\n",
    "        batch_grad = get_minibatch_grad(minibatch, theta)\n",
    "        theta = theta.squeeze() - learn_rate * batch_grad\n",
    "        learn_rate = learn_rate/(1+i)\n",
    "        loss = (1/batch_size)*np.sum(Y-X.dot(theta))\n",
    "        \n",
    "        # Prints for visualization\n",
    "        # print(\"BATCHGRAD\", batch_grad.shape, batch_grad)\n",
    "        # print(\"THETA OLD\", theta.shape, theta)\n",
    "        # print(\"THETA NEW\", theta.shape, theta)\n",
    "        # print(\"LEARN RATE\", learn_rate)\n",
    "        \n",
    "    return loss, theta\n",
    "        \n",
    "theta_init = np.zeros((1,4)).T\n",
    "#np.random.normal(0,1,4)\n",
    "prev_loss = sys.maxsize\n",
    "theta = theta_init\n",
    "losses = [] # for plotting\n",
    "iteration = 0 # for plotting\n",
    "\n",
    "for i in range(50):\n",
    "    iteration += 1\n",
    "    loss, theta = sgd(theta ,learn_rate, 5)\n",
    "    print(\"LOSS: \", loss)\n",
    "    np.random.shuffle(data)\n",
    "    losses.append(loss)"
   ]
  },
  {
   "cell_type": "code",
   "execution_count": 6,
   "metadata": {},
   "outputs": [
    {
     "name": "stdout",
     "output_type": "stream",
     "text": [
      "[-0.56196432  1.36263461  0.00722147 -1.89146115]\n"
     ]
    }
   ],
   "source": [
    "print(theta)"
   ]
  },
  {
   "cell_type": "code",
   "execution_count": 7,
   "metadata": {},
   "outputs": [
    {
     "data": {
      "image/png": "[encoded data removed]",
      "text/plain": [
       "<Figure size 432x288 with 1 Axes>"
      ]
     },
     "metadata": {
      "needs_background": "light"
     },
     "output_type": "display_data"
    }
   ],
   "source": [
    "plt.xlabel(\"Iteration\")\n",
    "plt.ylabel(\"Loss\")\n",
    "plt.plot(np.arange(iteration), losses, 'r')\n",
    "plt.show()"
   ]
  },
  {
   "cell_type": "code",
   "execution_count": null,
   "metadata": {},
   "outputs": [],
   "source": []
  },
  {
   "cell_type": "code",
   "execution_count": null,
   "metadata": {},
   "outputs": [],
   "source": []
  }
 ],
 "metadata": {
  "kernelspec": {
   "display_name": "Python 3",
   "language": "python",
   "name": "python3"
  },
  "language_info": {
   "codemirror_mode": {
    "name": "ipython",
    "version": 3
   },
   "file_extension": ".py",
   "mimetype": "text/x-python",
   "name": "python",
   "nbconvert_exporter": "python",
   "pygments_lexer": "ipython3",
   "version": "3.6.6"
  }
 },
 "nbformat": 4,
 "nbformat_minor": 2
}
