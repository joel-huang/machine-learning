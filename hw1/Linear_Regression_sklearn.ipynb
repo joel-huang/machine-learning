{
 "cells": [
  {
   "cell_type": "markdown",
   "metadata": {},
   "source": [
    "# Linear Regression using sklearn\n",
    "Find a Python library that computes the optimal coefficients in the linear regression\n",
    "problem, and compare its solution with Theano's Linear Regression."
   ]
  },
  {
   "cell_type": "code",
   "execution_count": 3,
   "metadata": {},
   "outputs": [],
   "source": [
    "import numpy as np\n",
    "from sklearn.linear_model import LinearRegression"
   ]
  },
  {
   "cell_type": "code",
   "execution_count": 4,
   "metadata": {},
   "outputs": [],
   "source": [
    "# load csv into ndarray\n",
    "data = np.genfromtxt('linear.csv', delimiter=',')"
   ]
  },
  {
   "cell_type": "markdown",
   "metadata": {},
   "source": [
    "## 1. Process Data"
   ]
  },
  {
   "cell_type": "code",
   "execution_count": 5,
   "metadata": {},
   "outputs": [],
   "source": [
    "# extract feature matrix and labels\n",
    "features = data[:,1:]\n",
    "labels = data[:,0]"
   ]
  },
  {
   "cell_type": "markdown",
   "metadata": {},
   "source": [
    "## 2. Initialize sklearn's LinearRegression Class"
   ]
  },
  {
   "cell_type": "code",
   "execution_count": 12,
   "metadata": {},
   "outputs": [],
   "source": [
    "# init the regressor\n",
    "regressor = LinearRegression()"
   ]
  },
  {
   "cell_type": "markdown",
   "metadata": {},
   "source": [
    "## 3. Compute Coefficients\n",
    "Call `regressor.fit()` and print the `coef_` and `intercept_`."
   ]
  },
  {
   "cell_type": "code",
   "execution_count": 17,
   "metadata": {},
   "outputs": [
    {
     "name": "stdout",
     "output_type": "stream",
     "text": [
      "[-0.57392068  1.35757059  0.01527565  0.        ]\n",
      "-1.8828807643601513\n"
     ]
    }
   ],
   "source": [
    "regressor.fit(features, labels)\n",
    "print(regressor.coef_)\n",
    "print(regressor.intercept_)"
   ]
  },
  {
   "cell_type": "markdown",
   "metadata": {},
   "source": [
    "## 4. Compare Results\n",
    "From Theano, we got weights\n",
    "\n",
    "```\n",
    "[[-0.57392068]\n",
    " [ 1.35757059]\n",
    " [ 0.01527565]\n",
    " [-1.88288076]]\n",
    "```\n",
    "\n",
    "`sklearn` separates these into the learned coefficients, `coeff_`, $w_{3}, w_{2}, w_{1}$, `= [-0.57392068  1.35757059  0.01527565  0.        ]` and independent term `intercept_` $w_{0}$, `= -1.8828807643601513`.\n"
   ]
  }
 ],
 "metadata": {
  "kernelspec": {
   "display_name": "Python 3",
   "language": "python",
   "name": "python3"
  },
  "language_info": {
   "codemirror_mode": {
    "name": "ipython",
    "version": 3
   },
   "file_extension": ".py",
   "mimetype": "text/x-python",
   "name": "python",
   "nbconvert_exporter": "python",
   "pygments_lexer": "ipython3",
   "version": "3.6.6"
  }
 },
 "nbformat": 4,
 "nbformat_minor": 2
}
