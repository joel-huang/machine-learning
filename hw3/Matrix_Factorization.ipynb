{
 "cells": [
  {
   "cell_type": "markdown",
   "metadata": {},
   "source": [
    "# Matrix Factorization\n",
    "Find the rank-one matrix $A\\in \\mathbb{R}^{3×3}$ that is closest to the incomplete matrix\n",
    "$\n",
    "\\begin{equation}\n",
    "Y=\n",
    "\\begin{bmatrix}\n",
    "    0 & 1 & * \\\\\n",
    "    1 & * & 1 \\\\\n",
    "    * & 1 & 2\n",
    "\\end{bmatrix}\n",
    "\\end{equation}\n",
    "$, i.e. $A$ should minimize the squared error to the observed entries. You may find $A$ by writing your own code, or using a suitable Python library, or even solving for it analytically. Let $A=UV^T$ be the matrix factorization of $A$, where $U,V^T \\in \\mathbb{R}^{3×1}$ are the factors."
   ]
  },
  {
   "cell_type": "markdown",
   "metadata": {},
   "source": [
    "## Approach\n",
    "We can perform coordinate descent through the alternating least squares regression algorithm.\n",
    "\n",
    "Squared error $\\mathcal{L}(U,V;A) = \\sum_{(a,i) \\in D} \\frac{1}{2} (\\,Y_{ai} - (UV^T)_{ai} \\,)^2 + \\frac{\\lambda}{2}\\lVert U\\rVert^2 + \\frac{\\lambda}{2}\\lVert V\\rVert^2$\n",
    "\n",
    "### Random initialization\n",
    "Initialize $V_1, V_2, \\ldots, V_m \\in \\mathbb{R}^k$ randomly.\n",
    "\n",
    "\n",
    "### Alternating minimization problems\n",
    "\n",
    "Find $U_a$ that minimizes $\\sum_{(a,i) \\in D} \\frac{1}{2} (\\,Y_{ai} - (U_a V_i^T) \\,)^2 + \\frac{\\lambda}{2}\\lVert U_a\\rVert^2$\n",
    "\n",
    "Find $V_i$ that minimizes $\\sum_{(a,i) \\in D} \\frac{1}{2} (\\,Y_{ai} - (U_a V_i^T) \\,)^2 + \\frac{\\lambda}{2}\\lVert V_i\\rVert^2$"
   ]
  },
  {
   "cell_type": "markdown",
   "metadata": {},
   "source": [
    "## Perform initialization"
   ]
  },
  {
   "cell_type": "code",
   "execution_count": 156,
   "metadata": {},
   "outputs": [
    {
     "name": "stdout",
     "output_type": "stream",
     "text": [
      "[[ 0.  1. nan]\n",
      " [ 1. nan  1.]\n",
      " [nan  1.  2.]]\n"
     ]
    },
    {
     "data": {
      "image/png": "[encoded data removed]",
      "text/plain": [
       "<Figure size 432x288 with 1 Axes>"
      ]
     },
     "metadata": {
      "needs_background": "light"
     },
     "output_type": "display_data"
    },
    {
     "name": "stdout",
     "output_type": "stream",
     "text": [
      "[[0.48346513 0.59663082 0.9319191 ]\n",
      " [0.6198575  0.76494883 1.19482669]\n",
      " [0.97110154 1.19840929 1.87187868]]\n"
     ]
    }
   ],
   "source": [
    "import numpy as np\n",
    "import matplotlib.pyplot as plt\n",
    "\n",
    "Y = np.array([[0,1,np.nan],[1,np.nan,1],[np.nan,1,2]])\n",
    "m, n = Y.shape\n",
    "\n",
    "print(Y)\n",
    "\n",
    "reg_param = 0.01\n",
    "num_iterations = 20\n",
    "\n",
    "U = np.random.rand(3,1)\n",
    "V = np.random.rand(1,3) # already transposed\n",
    "\n",
    "W = 1-(np.isnan(Y))*1\n",
    "# convert nan to num\n",
    "Y = np.nan_to_num(Y)\n",
    "\n",
    "losses = []\n",
    "\n",
    "def alternating_least_squares():   \n",
    "    # convergence condition\n",
    "    for iteration in range(num_iterations):\n",
    "        for a in range(m):\n",
    "            VW = np.dot(V,np.diag(W[a,:]))\n",
    "            U[a,:] = np.linalg.solve(np.dot(VW, VW.T) + reg_param * np.eye(1),\n",
    "                                     np.dot(V, Y[a,:].T)).T\n",
    "        for i in range(n):\n",
    "            WU = np.dot(np.diag(W[:,i]),U)\n",
    "            V[:,i] = np.linalg.solve(np.dot(WU.T, WU) + reg_param * np.eye(1),\n",
    "                                     np.dot(U.T, Y[:,i]))\n",
    "            \n",
    "        losses.append(np.sum((W*(Y - np.dot(U, V)))**2))\n",
    "    \n",
    "alternating_least_squares()\n",
    "iterations = np.arange(0, num_iterations)\n",
    "\n",
    "plt.xlabel('Iterations')\n",
    "plt.ylabel('Loss')\n",
    "plt.plot(iterations, losses)\n",
    "plt.show()\n",
    "print(np.dot(U, V))"
   ]
  }
 ],
 "metadata": {
  "kernelspec": {
   "display_name": "Python 3",
   "language": "python",
   "name": "python3"
  },
  "language_info": {
   "codemirror_mode": {
    "name": "ipython",
    "version": 3
   },
   "file_extension": ".py",
   "mimetype": "text/x-python",
   "name": "python",
   "nbconvert_exporter": "python",
   "pygments_lexer": "ipython3",
   "version": "3.6.6"
  }
 },
 "nbformat": 4,
 "nbformat_minor": 2
}
