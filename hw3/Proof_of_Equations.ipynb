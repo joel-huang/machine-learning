{
 "cells": [
  {
   "cell_type": "markdown",
   "metadata": {},
   "source": [
    "# (a) Proof of $\\theta_w$\n",
    "In the slides of Lecture 8 (generative model), we discussed using MLE to calculate the probability of word w so that the probability that a document is generated is maximized.  Please take a look at slides 13 and 14, and proof how $\\theta_w$ is derived. Does it matter whether W denotes the collection of words in document S or the collection of words in the dictionary?"
   ]
  },
  {
   "cell_type": "markdown",
   "metadata": {},
   "source": [
    "## Solution\n",
    "\n",
    "$L_n(\\theta) = \\dfrac{1}{n} \\sum_{w \\in W} -\\,n(w)\\log{\\theta_w} + \\lambda (1-\\sum_{w \\in W} \\theta_w)$\n",
    "\n",
    "Taking the derivative of $L_n$ w.r.t. $\\theta_w$,\n",
    "\n",
    "$\\dfrac{\\partial L_n}{\\partial \\theta_w} = \\dfrac{1}{n} \\dfrac{n(w)}{\\theta_w} - \\lambda = 0$\n",
    "\n",
    "$\\theta_w = -\\dfrac{n(w)}{n \\lambda}$\n",
    "\n",
    "Taking the derivative of $L_n$ w.r.t. $\\lambda$,\n",
    "\n",
    "$\\dfrac{\\partial L_n}{\\partial \\lambda} = 1-\\sum_{w \\in W} \\theta_w = 0$\n",
    "\n",
    "$\\sum_{w \\in W} \\theta_w = 1$\n",
    "\n",
    "Substituting $\\theta_w = -\\dfrac{n(w)}{n \\lambda}$,\n",
    "\n",
    "$\\sum_{w \\in W} -\\dfrac{n(w)}{n\\lambda} = 1$\n",
    "\n",
    "$-\\dfrac{n}{n\\lambda} = 1$\n",
    "\n",
    "$\\lambda = -1$\n",
    "\n",
    "$\\theta_w = -\\dfrac{n(w)}{n (-1)} = \\dfrac{n(w)}{n}$"
   ]
  },
  {
   "cell_type": "markdown",
   "metadata": {},
   "source": [
    "# (b) Proof of $\\mu$ and $\\sigma$\n",
    "In slide 15 of Lecture 8, we discussed how to estimate the parameters ($\\mu$ and $\\sigma$) so that the data samples are generated with a maximum probability under the spherical Gaussian assumption. Please demonstrate how $\\mu$ and $\\sigma$ are derived based on MLE."
   ]
  },
  {
   "cell_type": "markdown",
   "metadata": {},
   "source": [
    "## Solution\n",
    "\n",
    "$L_n = -\\dfrac{1}{n}\\,\\log \\text{P}(S\\,|\\,\\mu,\\sigma) = \\dfrac{d}{2}\\,\\log(2\\pi\\sigma^2) + \\dfrac{1}{2n\\sigma^2}\\sum_{x \\in \\mathcal{S}}\\lVert x - \\mu \\rVert^2$\n",
    "\n",
    "Taking the derivative of $L_n$ w.r.t. $\\mu$,\n",
    "\n",
    "$\\dfrac{\\partial L_n}{\\partial \\mu} = \\dfrac{2}{2n\\sigma^2} \\sum_{x \\in \\mathcal{S}} (x - \\hat{\\mu}) = 0$\n",
    "\n",
    "$\\hat{\\mu} = \\dfrac{1}{n} \\sum_{x \\in \\mathcal{S}} x$\n",
    "\n",
    "Taking the derivative of $L_n$ w.r.t. $\\sigma$,\n",
    "\n",
    "$\\dfrac{\\partial L_n}{\\partial \\sigma} = \\dfrac{d}{\\hat{\\sigma}^2} - \\dfrac{2}{2n\\hat{\\sigma}^3} \\sum_{x \\in \\mathcal{S}} \\lVert x - \\mu \\rVert^2$\n",
    "\n",
    "$\\hat{\\sigma} = \\dfrac{1}{nd} \\sum_{x \\in \\mathcal{S}} \\lVert x - \\mu \\rVert^2$"
   ]
  }
 ],
 "metadata": {
  "kernelspec": {
   "display_name": "Python 3",
   "language": "python",
   "name": "python3"
  },
  "language_info": {
   "codemirror_mode": {
    "name": "ipython",
    "version": 3
   },
   "file_extension": ".py",
   "mimetype": "text/x-python",
   "name": "python",
   "nbconvert_exporter": "python",
   "pygments_lexer": "ipython3",
   "version": "3.6.6"
  }
 },
 "nbformat": 4,
 "nbformat_minor": 2
}
