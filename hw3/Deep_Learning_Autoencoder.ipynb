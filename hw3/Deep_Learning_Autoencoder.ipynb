{
 "cells": [
  {
   "cell_type": "markdown",
   "metadata": {},
   "source": [
    "# Deep Learning (Autoencoder)"
   ]
  },
  {
   "cell_type": "code",
   "execution_count": 5,
   "metadata": {},
   "outputs": [
    {
     "data": {
      "image/png": "[encoded data removed]",
      "text/plain": [
       "<Figure size 432x288 with 1 Axes>"
      ]
     },
     "metadata": {
      "needs_background": "light"
     },
     "output_type": "display_data"
    }
   ],
   "source": [
    "%matplotlib inline\n",
    "import numpy as np\n",
    "from numpy.linalg import norm\n",
    "import matplotlib.pyplot as plt\n",
    "from scipy.optimize import fmin_l_bfgs_b as minimize\n",
    "from utils import normalize, tile_raster_images, sigmoid\n",
    "from utils import ravelParameters, unravelParameters\n",
    "from utils import initializeParameters\n",
    "from utils import computeNumericalGradient\n",
    "\n",
    "npy = 'data/images.npy'\n",
    "X = normalize(np.load(npy))\n",
    "plt.imshow(tile_raster_images(X=X,img_shape=(8,8),tile_shape=(5,5),\n",
    "                              tile_spacing=(1,1)),cmap='gray')\n",
    "plt.show()"
   ]
  },
  {
   "cell_type": "markdown",
   "metadata": {},
   "source": [
    "## (a) Implement cost function\n",
    "\n",
    "We implement the function which computes the cost and the gradient of the sparse autoencoder.  This function will be passed to an optimization engine, together with the `theta` vector that contains the current state of all the model parameters. The first step of the function is therefore to unpack the `theta` vector into $W_1,W_2,b_1,b_2$. Some of the other steps are provided in the template below."
   ]
  },
  {
   "cell_type": "code",
   "execution_count": 16,
   "metadata": {},
   "outputs": [
    {
     "name": "stdout",
     "output_type": "stream",
     "text": [
      " ."
     ]
    }
   ],
   "source": [
    "nV = 8*8       # number of visible units\n",
    "nH = 25        # number of hidden units\n",
    "dW = 0.0001    # weight decay term\n",
    "sW = 3         # sparsity penalty term\n",
    "\n",
    "def sparseAutoencoderCost(theta,nV,nH,dW,sW,X):\n",
    "    W1,W2,b1,b2 = unravelParameters(theta,nH,nV)\n",
    "    n = X.shape[0]\n",
    "    z2 = np.dot(X, W1) + np.dot(np.ones((n,1)),b1.T) # z = Wx+b\n",
    "    a2 = sigmoid(z2)\n",
    "    z3 = np.dot(a2, W2) + np.dot(np.ones((n,1)),b2.T)\n",
    "    a3 = sigmoid(z3)\n",
    "    eps = a3-X\n",
    "    loss = .5/n * np.sum(eps**2)\n",
    "    decay = .5 * (np.sum(W1**2) + np.sum(W2**2)) # weight decay regularization\n",
    "    # Compute sparsity terms and total cost\n",
    "    rho = 0.01\n",
    "    a2mean = np.mean(a2,axis=0).reshape(nH,1)\n",
    "    kl = np.sum(rho*np.log(rho/a2mean)+\\\n",
    "    (1-rho)*np.log((1-rho)/(1-a2mean)))\n",
    "    dkl = -rho/a2mean+(1-rho)/(1-a2mean)\n",
    "    cost = loss+dW*decay+sW*kl\n",
    "    d3 = eps*a3*(1-a3)\n",
    "    d2 = (sW*dkl.T+np.dot(d3,W2.T))*a2*(1-a2)\n",
    "    W1grad = np.dot(X.T,d2)/n+dW*W1\n",
    "    W2grad = np.dot(a2.T,d3)/n+dW*W2\n",
    "    b1grad = np.dot(d2.T,np.ones((n,1)))/n\n",
    "    b2grad = np.dot(d3.T,np.ones((n,1)))/n\n",
    "    grad = ravelParameters(W1grad,W2grad,b1grad,b2grad)\n",
    "    print(' .',end=\"\")\n",
    "    return cost,grad\n",
    "                                 \n",
    "theta = initializeParameters(nH,nV)\n",
    "cost,grad = sparseAutoencoderCost(theta,nV,nH,dW,sW,X)"
   ]
  },
  {
   "cell_type": "markdown",
   "metadata": {},
   "source": [
    "## (b) Gradient comparison"
   ]
  },
  {
   "cell_type": "code",
   "execution_count": 21,
   "metadata": {},
   "outputs": [
    {
     "name": "stdout",
     "output_type": "stream",
     "text": [
      "\n",
      "Comparing numerical gradient with backprop gradient\n",
      " . . . . . . . . . .\n",
      " [[ 0.90519965  0.90519965]\n",
      " [ 0.90615503  0.90615504]\n",
      " [-0.00455793 -0.00455793]\n",
      " [ 0.90378219  0.90378219]\n",
      " [ 0.64626787  0.64626787]]\n",
      "The relative difference is 1.0992141460222476e-10\n",
      "True\n"
     ]
    }
   ],
   "source": [
    "print('\\nComparing numerical gradient with backprop gradient')\n",
    "\n",
    "num_coords = 5\n",
    "indices = np.random.choice(theta.size,num_coords,replace=False)\n",
    "numgrad = computeNumericalGradient(lambda t:sparseAutoencoderCost(t,nV,nH,dW,sW,X)[0],theta,indices)\n",
    "subnumgrad = numgrad[indices]\n",
    "subgrad = grad[indices]\n",
    "diff = norm(subnumgrad-subgrad)/norm(subnumgrad+subgrad)\n",
    "print('\\n',np.array([subnumgrad,subgrad]).T)\n",
    "print('The relative difference is',diff)\n",
    "print(diff<10**(-9))"
   ]
  },
  {
   "cell_type": "markdown",
   "metadata": {},
   "source": [
    "## (c) Training"
   ]
  },
  {
   "cell_type": "code",
   "execution_count": 23,
   "metadata": {},
   "outputs": [
    {
     "name": "stdout",
     "output_type": "stream",
     "text": [
      "\n",
      "Training neural network\n",
      " . . . . . . . . . . . . . . . . . . . . . . . . . . . . . . . . . . . . . . . . . . . . . . . . . . . . . . . . . . . . . . . . . . . . . . . . . . . . . . . . . . . . . . . . . . . . . . . . . . . . . . . . . . . . . . . . . . . . . . . . . . . . . . . . . . . . . . . . . . . . . . . . . . . . . . . . . . . . . . . . . . . . . . . . . . . . . . . . . . . . . . . . . . . . . . . . . . . . . . . . . . . . . . . . . . . . . . . . . . . . . . . . . . . . . . . . . . . . . . . . . . . . . . . . . . . . . . . . . . . . . . . . . . . . . . . . . . . . . . . . . . . . . . . . . . . . . . . . . . . . . . . . . . . . . . . . . . . . . . . . . . . . . . . . . . . . . . . . . . . . . . . . . . . . . . . . . . . . . . . . . . . . . . . . . . . . . . . . . . . . . . . . . . . . . . . . . . . . . . . . . . . . . . . . . . . . . . . . ."
     ]
    },
    {
     "data": {
      "image/png": "[encoded data removed]",
      "text/plain": [
       "<Figure size 432x288 with 1 Axes>"
      ]
     },
     "metadata": {
      "needs_background": "light"
     },
     "output_type": "display_data"
    }
   ],
   "source": [
    "print('\\nTraining neural network')\n",
    "theta = initializeParameters(nH,nV)\n",
    "opttheta,cost,messages = minimize(sparseAutoencoderCost,\n",
    "theta,fprime=None,maxiter=400,args=(nV,nH,dW,sW,X))\n",
    "W1,W2,b1,b2 = unravelParameters(opttheta,nH,nV)\n",
    "plt.imshow(tile_raster_images(X=W1.T,\n",
    "img_shape=(8,8),tile_shape=(5,5),\n",
    "tile_spacing=(1,1)),cmap='gray')\n",
    "plt.show()"
   ]
  }
 ],
 "metadata": {
  "kernelspec": {
   "display_name": "Python 3",
   "language": "python",
   "name": "python3"
  },
  "language_info": {
   "codemirror_mode": {
    "name": "ipython",
    "version": 3
   },
   "file_extension": ".py",
   "mimetype": "text/x-python",
   "name": "python",
   "nbconvert_exporter": "python",
   "pygments_lexer": "ipython3",
   "version": "3.6.6"
  }
 },
 "nbformat": 4,
 "nbformat_minor": 2
}
