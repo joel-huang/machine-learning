{
 "cells": [
  {
   "cell_type": "markdown",
   "metadata": {},
   "source": [
    "# (a) Splitting the Dataset\n",
    "\n",
    "Let the first 10 entries of the data set be the validation set, and the last 40 entries be the training set. Concatenate their features into matrices vX and tX, and their responses into vectors vY and tY. Print the shapes of vX, tX, vY and tY."
   ]
  },
  {
   "cell_type": "code",
   "execution_count": 102,
   "metadata": {},
   "outputs": [
    {
     "name": "stdout",
     "output_type": "stream",
     "text": [
      "(10, 4) (40, 4) (10,) (40,)\n"
     ]
    }
   ],
   "source": [
    "import numpy as np\n",
    "\n",
    "data = np.genfromtxt('data/linear.csv', delimiter=',')\n",
    "\n",
    "data_x = data[:,1:]\n",
    "data_y = data[:,0]\n",
    "\n",
    "\n",
    "val = data[:10,:]\n",
    "trg = data[10:,:]\n",
    "\n",
    "vx = val[:,1:]\n",
    "vy = val[:,0]\n",
    "tx = trg[:,1:]\n",
    "ty = trg[:,0]\n",
    "\n",
    "print(vx.shape, tx.shape, vy.shape, ty.shape)"
   ]
  },
  {
   "cell_type": "markdown",
   "metadata": {},
   "source": [
    "# (b) Ridge regression with regularization\n",
    "Write a program in Theano that performs ridge regression by using a regularization\n",
    "penalty of $\\frac{\\lambda}{2}||w||^2$ with $\\lambda=0.15$. You may use the source codes from Homework 1. Print the resulting value of $w$. Which feature may we assume to be irrelevant?"
   ]
  },
  {
   "cell_type": "code",
   "execution_count": 132,
   "metadata": {},
   "outputs": [
    {
     "name": "stdout",
     "output_type": "stream",
     "text": [
      "Loss: 0.15126778264217744\n"
     ]
    },
    {
     "data": {
      "image/png": "[encoded data removed]",
      "text/plain": [
       "<Figure size 432x288 with 1 Axes>"
      ]
     },
     "metadata": {
      "needs_background": "light"
     },
     "output_type": "display_data"
    },
    {
     "name": "stdout",
     "output_type": "stream",
     "text": [
      "[[-0.53590673]\n",
      " [ 1.20293332]\n",
      " [ 0.04334568]\n",
      " [-1.85492455]]\n"
     ]
    }
   ],
   "source": [
    "import theano\n",
    "import theano.tensor as tensor\n",
    "import matplotlib.pyplot as plt\n",
    "\n",
    "feature_dim = tx.shape[1]\n",
    "num_samples = tx.shape[0]\n",
    "learn_rate = .5\n",
    "regularization_param = .15\n",
    "\n",
    "# init theano variables\n",
    "x = tensor.matrix(name='x') # 2D feature matrix\n",
    "y = tensor.vector(name='y') # 1D response vector\n",
    "\n",
    "# init a updatable shared variable that holds the\n",
    "# values of parameters we are going to optimize\n",
    "theta = theano.shared(np.zeros(shape=(feature_dim,1)), name='theta')\n",
    "\n",
    "# define the training loss and compute the loss gradient\n",
    "# add regularization term\n",
    "loss = tensor.sum((tensor.dot(x,theta).T - y)**2)/2/num_samples + (regularization_param/2)*(theta[0,0]**2+theta[1,0]**2+theta[2,0]**2)\n",
    "grad = tensor.grad(loss, wrt=theta)\n",
    "\n",
    "# run the training\n",
    "train_model = theano.function(inputs=[],\n",
    "\t\t\toutputs=loss,\n",
    "\t\t\tupdates=[(theta, theta-learn_rate*grad)],\n",
    "\t\t\tgivens={x:tx, y:ty})\n",
    "\n",
    "iters = 100\n",
    "loss_vals = np.zeros(iters)\n",
    "\n",
    "for i in range(iters):\n",
    "    y_loss = train_model()\n",
    "    if i == 0:\n",
    "        ymin = y_loss\n",
    "    loss_vals[i] = y_loss\n",
    "    \n",
    "print('Loss: ' + str(y_loss))\n",
    "    \n",
    "plt.xlabel('Iterations')\n",
    "plt.ylabel('Loss')\n",
    "plt.scatter(np.arange(iters),loss_vals)\n",
    "plt.plot(np.arange(iters),loss_vals,'r')\n",
    "plt.ylim(0,ymin)\n",
    "plt.show()\n",
    "\n",
    "print(theta.get_value())\n"
   ]
  },
  {
   "cell_type": "markdown",
   "metadata": {},
   "source": [
    "The intercept or bias term is irrelevant."
   ]
  },
  {
   "cell_type": "markdown",
   "metadata": {},
   "source": [
    "# (c) Using BFGS from scipy\n",
    "\n",
    "Compute the optimal solution using BFGS optimizer from scipy.\n",
    "\n",
    "Print the resulting value of $w$ for $\\lambda=0.15$."
   ]
  },
  {
   "cell_type": "code",
   "execution_count": 133,
   "metadata": {},
   "outputs": [
    {
     "name": "stdout",
     "output_type": "stream",
     "text": [
      "[-0.53591305  1.20293347  0.04332715 -1.85492236]\n"
     ]
    }
   ],
   "source": [
    "from scipy.optimize import fmin_l_bfgs_b as minimize\n",
    "\n",
    "# this is the function to be optimized (in this case, minimized)\n",
    "# function takes arguments (x, *args)\n",
    "def lossgrad(theta,*args):\n",
    "    x, y = args[0], args[1]\n",
    "    loss = np.sum((np.dot(x,theta).T - y)**2)/2/num_samples + (regularization_param/2)*(theta[0,]**2+theta[1,]**2+theta[2,]**2)\n",
    "    a = np.asarray([theta[0], theta[1], theta[2], 0])\n",
    "    grad = regularization_param*a + np.dot(np.dot(x.T, x), theta)/num_samples - np.dot(x.T, y)/num_samples\n",
    "    return loss, grad\n",
    "\n",
    "#reset theta for this experiment\n",
    "theta = np.zeros(shape=(feature_dim,1))\n",
    "opt_theta, loss, messages = minimize(lossgrad, theta, args=(tx,ty))\n",
    "\n",
    "print(opt_theta)"
   ]
  },
  {
   "cell_type": "markdown",
   "metadata": {},
   "source": [
    "# (d) Ridge regression with exact solution\n",
    "$\\hat{\\theta} = (n \\lambda I + X^T X)^{-1} X^T Y$"
   ]
  },
  {
   "cell_type": "code",
   "execution_count": 134,
   "metadata": {},
   "outputs": [
    {
     "name": "stdout",
     "output_type": "stream",
     "text": [
      "[-0.53590673  1.20293332  0.04334568 -1.85492455]\n"
     ]
    }
   ],
   "source": [
    "def ridge_regression(tx, ty, reg_param):\n",
    "    n = tx.shape[0] # num samples\n",
    "    I = np.eye(4)\n",
    "    I[3,3] = 0\n",
    "    return np.dot(np.linalg.inv(n*reg_param*I+np.dot(tx.T, tx)), np.dot(tx.T,ty))\n",
    "\n",
    "print(ridge_regression(tx,ty,regularization_param))"
   ]
  },
  {
   "cell_type": "markdown",
   "metadata": {},
   "source": [
    "# (e) Plotting different values of $\\lambda$"
   ]
  },
  {
   "cell_type": "code",
   "execution_count": 125,
   "metadata": {},
   "outputs": [
    {
     "name": "stdout",
     "output_type": "stream",
     "text": [
      "[-0.57006903  1.3753366   0.02830073 -1.88456156]\n"
     ]
    },
    {
     "data": {
      "image/png": "[encoded data removed]",
      "text/plain": [
       "<Figure size 432x288 with 1 Axes>"
      ]
     },
     "metadata": {
      "needs_background": "light"
     },
     "output_type": "display_data"
    }
   ],
   "source": [
    "tn = tx.shape[0]\n",
    "vn = vx.shape[0]\n",
    "tloss = []\n",
    "vloss = []\n",
    "index = -np.arange(0,5,0.1)\n",
    "for i in index:\n",
    "    w = ridge_regression(tx,ty,10**i)\n",
    "    tloss = tloss+[np.sum((np.dot(tx,w)-ty)**2)/tn/2]\n",
    "    vloss = vloss+[np.sum((np.dot(vx,w)-vy)**2)/vn/2]\n",
    "print(w)\n",
    "\n",
    "import matplotlib.pyplot as plt\n",
    "plt.xlabel(\"x, where $\\lambda = 10^x$\")\n",
    "plt.ylabel(\"Loss\")\n",
    "plt.plot(index,np.log(tloss),'r')\n",
    "plt.plot(index,np.log(vloss),'b')\n",
    "plt.show()"
   ]
  },
  {
   "cell_type": "markdown",
   "metadata": {},
   "source": [
    "The $\\lambda$ that minimizes the validation loss is $10^{-1}$."
   ]
  }
 ],
 "metadata": {
  "kernelspec": {
   "display_name": "Python 3",
   "language": "python",
   "name": "python3"
  },
  "language_info": {
   "codemirror_mode": {
    "name": "ipython",
    "version": 3
   },
   "file_extension": ".py",
   "mimetype": "text/x-python",
   "name": "python",
   "nbconvert_exporter": "python",
   "pygments_lexer": "ipython3",
   "version": "3.6.6"
  }
 },
 "nbformat": 4,
 "nbformat_minor": 2
}
